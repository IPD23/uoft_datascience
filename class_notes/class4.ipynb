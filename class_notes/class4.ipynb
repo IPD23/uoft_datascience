{
 "cells": [
  {
   "cell_type": "code",
   "execution_count": 1,
   "metadata": {},
   "outputs": [
    {
     "name": "stdout",
     "output_type": "stream",
     "text": [
      "Collecting pandas\n",
      "  Downloading pandas-2.0.3-cp311-cp311-win_amd64.whl (10.6 MB)\n",
      "                                              0.0/10.6 MB ? eta -:--:--\n",
      "                                              0.1/10.6 MB 2.2 MB/s eta 0:00:05\n",
      "                                              0.2/10.6 MB 1.8 MB/s eta 0:00:06\n",
      "                                              0.2/10.6 MB 2.4 MB/s eta 0:00:05\n",
      "     -                                        0.4/10.6 MB 2.1 MB/s eta 0:00:05\n",
      "     --                                       0.6/10.6 MB 2.9 MB/s eta 0:00:04\n",
      "     --                                       0.6/10.6 MB 2.9 MB/s eta 0:00:04\n",
      "     --                                       0.6/10.6 MB 2.9 MB/s eta 0:00:04\n",
      "     --                                       0.6/10.6 MB 2.9 MB/s eta 0:00:04\n",
      "     --                                       0.6/10.6 MB 2.9 MB/s eta 0:00:04\n",
      "     --                                       0.8/10.6 MB 1.7 MB/s eta 0:00:06\n",
      "     ----                                     1.2/10.6 MB 2.3 MB/s eta 0:00:05\n",
      "     -----                                    1.3/10.6 MB 2.4 MB/s eta 0:00:04\n",
      "     ------                                   1.8/10.6 MB 3.0 MB/s eta 0:00:03\n",
      "     --------                                 2.1/10.6 MB 3.4 MB/s eta 0:00:03\n",
      "     ---------                                2.5/10.6 MB 3.7 MB/s eta 0:00:03\n",
      "     ---------                                2.5/10.6 MB 3.4 MB/s eta 0:00:03\n",
      "     ---------                                2.5/10.6 MB 3.4 MB/s eta 0:00:03\n",
      "     ----------                               2.8/10.6 MB 3.4 MB/s eta 0:00:03\n",
      "     ------------                             3.3/10.6 MB 3.7 MB/s eta 0:00:02\n",
      "     -------------                            3.6/10.6 MB 3.9 MB/s eta 0:00:02\n",
      "     ---------------                          4.1/10.6 MB 4.2 MB/s eta 0:00:02\n",
      "     ----------------                         4.5/10.6 MB 4.4 MB/s eta 0:00:02\n",
      "     ------------------                       5.0/10.6 MB 4.7 MB/s eta 0:00:02\n",
      "     --------------------                     5.5/10.6 MB 5.0 MB/s eta 0:00:02\n",
      "     ---------------------                    5.6/10.6 MB 5.0 MB/s eta 0:00:02\n",
      "     ---------------------                    5.6/10.6 MB 5.0 MB/s eta 0:00:02\n",
      "     ---------------------                    5.6/10.6 MB 5.0 MB/s eta 0:00:02\n",
      "     ---------------------                    5.6/10.6 MB 5.0 MB/s eta 0:00:02\n",
      "     ---------------------                    5.7/10.6 MB 4.3 MB/s eta 0:00:02\n",
      "     -----------------------                  6.3/10.6 MB 4.5 MB/s eta 0:00:01\n",
      "     ----------------------------             7.6/10.6 MB 5.3 MB/s eta 0:00:01\n",
      "     --------------------------------         8.6/10.6 MB 5.8 MB/s eta 0:00:01\n",
      "     --------------------------------         8.7/10.6 MB 5.8 MB/s eta 0:00:01\n",
      "     ---------------------------------        8.8/10.6 MB 5.6 MB/s eta 0:00:01\n",
      "     ----------------------------------       9.3/10.6 MB 5.7 MB/s eta 0:00:01\n",
      "     ------------------------------------     9.6/10.6 MB 5.8 MB/s eta 0:00:01\n",
      "     --------------------------------------   10.1/10.6 MB 5.9 MB/s eta 0:00:01\n",
      "     ---------------------------------------  10.5/10.6 MB 6.4 MB/s eta 0:00:01\n",
      "     ---------------------------------------- 10.6/10.6 MB 6.4 MB/s eta 0:00:00\n",
      "Requirement already satisfied: python-dateutil>=2.8.2 in c:\\users\\petrov19\\appdata\\roaming\\python\\python311\\site-packages (from pandas) (2.8.2)\n",
      "Collecting pytz>=2020.1 (from pandas)\n",
      "  Downloading pytz-2023.3-py2.py3-none-any.whl (502 kB)\n",
      "                                              0.0/502.3 kB ? eta -:--:--\n",
      "     ---------------------------            358.4/502.3 kB 7.4 MB/s eta 0:00:01\n",
      "     -------------------------------------- 502.3/502.3 kB 7.8 MB/s eta 0:00:00\n",
      "Collecting tzdata>=2022.1 (from pandas)\n",
      "  Downloading tzdata-2023.3-py2.py3-none-any.whl (341 kB)\n",
      "                                              0.0/341.8 kB ? eta -:--:--\n",
      "     ------------------------------------- 341.8/341.8 kB 10.7 MB/s eta 0:00:00\n",
      "Requirement already satisfied: numpy>=1.21.0 in c:\\users\\petrov19\\appdata\\local\\programs\\python\\python311\\lib\\site-packages (from pandas) (1.25.0)\n",
      "Requirement already satisfied: six>=1.5 in c:\\users\\petrov19\\appdata\\roaming\\python\\python311\\site-packages (from python-dateutil>=2.8.2->pandas) (1.16.0)\n",
      "Installing collected packages: pytz, tzdata, pandas\n",
      "Successfully installed pandas-2.0.3 pytz-2023.3 tzdata-2023.3\n",
      "Note: you may need to restart the kernel to use updated packages.\n"
     ]
    }
   ],
   "source": [
    "pip install pandas"
   ]
  },
  {
   "cell_type": "code",
   "execution_count": 1,
   "metadata": {},
   "outputs": [],
   "source": [
    "import pandas as pd"
   ]
  },
  {
   "cell_type": "code",
   "execution_count": 5,
   "metadata": {},
   "outputs": [
    {
     "ename": "SyntaxError",
     "evalue": "(unicode error) 'unicodeescape' codec can't decode bytes in position 2-3: truncated \\UXXXXXXXX escape (3688248797.py, line 1)",
     "output_type": "error",
     "traceback": [
      "\u001b[1;36m  Cell \u001b[1;32mIn[5], line 1\u001b[1;36m\u001b[0m\n\u001b[1;33m    customers = pd.read_csv('C:\\Users\\petrov19\\SCS_Python_course\\customers.csv')\u001b[0m\n\u001b[1;37m                                                                               ^\u001b[0m\n\u001b[1;31mSyntaxError\u001b[0m\u001b[1;31m:\u001b[0m (unicode error) 'unicodeescape' codec can't decode bytes in position 2-3: truncated \\UXXXXXXXX escape\n"
     ]
    }
   ],
   "source": [
    "customers = pd.read_csv('C:\\Users\\petrov19\\SCS_Python_course\\customers.csv')"
   ]
  },
  {
   "cell_type": "code",
   "execution_count": 7,
   "metadata": {},
   "outputs": [
    {
     "ename": "NameError",
     "evalue": "name 'customers' is not defined",
     "output_type": "error",
     "traceback": [
      "\u001b[1;31m---------------------------------------------------------------------------\u001b[0m",
      "\u001b[1;31mNameError\u001b[0m                                 Traceback (most recent call last)",
      "Cell \u001b[1;32mIn[7], line 1\u001b[0m\n\u001b[1;32m----> 1\u001b[0m customers\n",
      "\u001b[1;31mNameError\u001b[0m: name 'customers' is not defined"
     ]
    }
   ],
   "source": [
    "customers"
   ]
  },
  {
   "cell_type": "code",
   "execution_count": 8,
   "metadata": {},
   "outputs": [
    {
     "ename": "SyntaxError",
     "evalue": "(unicode error) 'unicodeescape' codec can't decode bytes in position 2-3: truncated \\UXXXXXXXX escape (3688248797.py, line 1)",
     "output_type": "error",
     "traceback": [
      "\u001b[1;36m  Cell \u001b[1;32mIn[8], line 1\u001b[1;36m\u001b[0m\n\u001b[1;33m    customers = pd.read_csv('C:\\Users\\petrov19\\SCS_Python_course\\customers.csv')\u001b[0m\n\u001b[1;37m                                                                               ^\u001b[0m\n\u001b[1;31mSyntaxError\u001b[0m\u001b[1;31m:\u001b[0m (unicode error) 'unicodeescape' codec can't decode bytes in position 2-3: truncated \\UXXXXXXXX escape\n"
     ]
    }
   ],
   "source": [
    "customers = pd.read_csv('C:\\Users\\petrov19\\SCS_Python_course\\customers.csv')"
   ]
  },
  {
   "cell_type": "code",
   "execution_count": 10,
   "metadata": {},
   "outputs": [
    {
     "ename": "NameError",
     "evalue": "name 'filepath' is not defined",
     "output_type": "error",
     "traceback": [
      "\u001b[1;31m---------------------------------------------------------------------------\u001b[0m",
      "\u001b[1;31mNameError\u001b[0m                                 Traceback (most recent call last)",
      "Cell \u001b[1;32mIn[10], line 1\u001b[0m\n\u001b[1;32m----> 1\u001b[0m customers \u001b[39m=\u001b[39m pd\u001b[39m.\u001b[39mread_csv(\u001b[39mf\u001b[39m\u001b[39m'\u001b[39m\u001b[39m{\u001b[39;00mfilepath\u001b[39m}\u001b[39;00m\u001b[39m,customers.csv\u001b[39m\u001b[39m'\u001b[39m)\n",
      "\u001b[1;31mNameError\u001b[0m: name 'filepath' is not defined"
     ]
    }
   ],
   "source": [
    "customers = pd.read_csv(f'{filepath},customers.csv')"
   ]
  }
 ],
 "metadata": {
  "kernelspec": {
   "display_name": "Python 3",
   "language": "python",
   "name": "python3"
  },
  "language_info": {
   "codemirror_mode": {
    "name": "ipython",
    "version": 3
   },
   "file_extension": ".py",
   "mimetype": "text/x-python",
   "name": "python",
   "nbconvert_exporter": "python",
   "pygments_lexer": "ipython3",
   "version": "3.11.4"
  },
  "orig_nbformat": 4
 },
 "nbformat": 4,
 "nbformat_minor": 2
}
