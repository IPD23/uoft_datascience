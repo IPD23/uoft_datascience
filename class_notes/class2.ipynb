# lists always use square bracke
